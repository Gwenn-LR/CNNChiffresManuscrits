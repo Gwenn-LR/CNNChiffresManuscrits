{
 "cells": [
  {
   "cell_type": "markdown",
   "id": "a25cdd9b",
   "metadata": {},
   "source": [
    "# Introduction"
   ]
  },
  {
   "cell_type": "markdown",
   "id": "6760e4e2",
   "metadata": {},
   "source": [
    "Ce brief a pour objectif de manipuler les images et les premiers pas des techniques de Deep Learning et CNN avec ```Tensorflow``` et d'appliquer un apprentissage supervisé pour reconnaitre les chiffres à partir d’une image."
   ]
  },
  {
   "cell_type": "markdown",
   "id": "3759b140",
   "metadata": {},
   "source": [
    "# Challenges\n",
    "\n",
    "* Manipulation des images.\n",
    "* Analyse, prétraitement et visualisation des images.\n",
    "* Manipulation et l’exploitation de la bibliothèque ```Tensorflow```.\n",
    "* Préparation d’un modèle CNN.\n"
   ]
  },
  {
   "cell_type": "markdown",
   "id": "e730227e",
   "metadata": {},
   "source": [
    "# Manipulation des images"
   ]
  },
  {
   "cell_type": "markdown",
   "id": "e3bb43bb",
   "metadata": {},
   "source": []
  },
  {
   "cell_type": "code",
   "execution_count": null,
   "id": "42ba9331",
   "metadata": {},
   "outputs": [],
   "source": []
  },
  {
   "cell_type": "markdown",
   "id": "6841cb1a",
   "metadata": {},
   "source": [
    "# Analyse, prétraitement et visualisation des images"
   ]
  },
  {
   "cell_type": "markdown",
   "id": "ec470ea9",
   "metadata": {},
   "source": []
  },
  {
   "cell_type": "code",
   "execution_count": null,
   "id": "d0ef4078",
   "metadata": {},
   "outputs": [],
   "source": []
  },
  {
   "cell_type": "markdown",
   "id": "1cb4efec",
   "metadata": {},
   "source": [
    "# Manipulation et exploitation de la bibliothèque ```Tensorflow```"
   ]
  },
  {
   "cell_type": "markdown",
   "id": "6fee8caf",
   "metadata": {},
   "source": []
  },
  {
   "cell_type": "code",
   "execution_count": null,
   "id": "d9f95970",
   "metadata": {},
   "outputs": [],
   "source": []
  },
  {
   "cell_type": "markdown",
   "id": "dfcb353d",
   "metadata": {},
   "source": [
    "# Préparation d'un modèle CNN"
   ]
  },
  {
   "cell_type": "markdown",
   "id": "21c590d0",
   "metadata": {},
   "source": []
  },
  {
   "cell_type": "code",
   "execution_count": null,
   "id": "2c2670f8",
   "metadata": {},
   "outputs": [],
   "source": []
  }
 ],
 "metadata": {
  "kernelspec": {
   "display_name": "Python 3 (ipykernel)",
   "language": "python",
   "name": "python3"
  },
  "language_info": {
   "codemirror_mode": {
    "name": "ipython",
    "version": 3
   },
   "file_extension": ".py",
   "mimetype": "text/x-python",
   "name": "python",
   "nbconvert_exporter": "python",
   "pygments_lexer": "ipython3",
   "version": "3.9.7"
  }
 },
 "nbformat": 4,
 "nbformat_minor": 5
}
